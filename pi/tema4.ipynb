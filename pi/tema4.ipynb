{
 "cells": [
  {
   "cell_type": "code",
   "execution_count": 32,
   "metadata": {},
   "outputs": [],
   "source": [
    "import cv2\n",
    "import numpy as np\n",
    "from queue import Queue\n",
    "import matplotlib.pyplot as plt\n",
    "import random\n",
    "\n",
    "MatLike = cv2.typing.MatLike"
   ]
  },
  {
   "cell_type": "code",
   "execution_count": 33,
   "metadata": {},
   "outputs": [],
   "source": [
    "def showImage(img, name):\n",
    "  cv2.imshow(name, img)\n",
    "  cv2.waitKey(0)\n",
    "  cv2.destroyAllWindows()"
   ]
  },
  {
   "cell_type": "code",
   "execution_count": 34,
   "metadata": {},
   "outputs": [],
   "source": [
    "def readImage(imagePath: str) -> MatLike:\n",
    "    return cv2.imread(imagePath)"
   ]
  },
  {
   "cell_type": "code",
   "execution_count": 35,
   "metadata": {},
   "outputs": [],
   "source": [
    "def convertImageToBinary(image: MatLike) -> MatLike:\n",
    "    grayScaleImage = cv2.cvtColor(image, cv2.COLOR_BGR2GRAY)\n",
    "    showImage(grayScaleImage, 'GrayScale')\n",
    "\n",
    "    _, binaryImage = cv2.threshold(grayScaleImage, 125, 255, cv2.THRESH_BINARY)\n",
    "    showImage(binaryImage, 'Binary')\n",
    "\n",
    "    return binaryImage\n"
   ]
  },
  {
   "cell_type": "code",
   "execution_count": 36,
   "metadata": {},
   "outputs": [],
   "source": [
    "def labelBlackAndWhiteImage_traversaInLatime(image: MatLike) -> np.typing.NDArray:\n",
    "    height, width = image.shape\n",
    "    labels = np.zeros((height, width), dtype=int)\n",
    "    label = 0\n",
    "\n",
    "    for i in range(height):\n",
    "        for j in range(width):\n",
    "            if image[i, j] == 0 and labels[i, j] == 0:\n",
    "                label += 1\n",
    "                q = Queue()\n",
    "                q.put((i, j))\n",
    "                labels[i, j] = label\n",
    "\n",
    "                while not q.empty():\n",
    "                    x, y = q.get()\n",
    "                    \n",
    "                    neighbors = [(x-1, y), (x+1, y), (x, y-1), (x, y+1)]\n",
    "                    for nx, ny in neighbors:\n",
    "                        if 0 <= nx < height and 0 <= ny < width:\n",
    "                            if image[nx, ny] == 0 and labels[nx, ny] == 0:\n",
    "                                q.put((nx, ny))\n",
    "                                labels[nx, ny] = label\n",
    "\n",
    "    return labels"
   ]
  },
  {
   "cell_type": "code",
   "execution_count": 37,
   "metadata": {},
   "outputs": [],
   "source": [
    "def labelBlackAndWhiteImage_douaTreceriCuClaseDeEchivalenta(image: MatLike) -> np.typing.NDArray:\n",
    "    height, width = image.shape\n",
    "    labels = np.zeros((height, width), dtype=int)\n",
    "    label = 0\n",
    "    edges = {}\n",
    "\n",
    "    neighbors = [(-1, 0), (0, -1), (-1, -1), (1, -1)]\n",
    "\n",
    "    for i in range(height):\n",
    "        for j in range(width):\n",
    "            if image[i, j] == 0 and labels[i, j] == 0:\n",
    "                l = set()\n",
    "                for dx, dy in neighbors:\n",
    "                    nx, ny = i + dx, j + dy\n",
    "                    if 0 <= nx < height and 0 <= ny < width and labels[nx, ny] > 0:\n",
    "                        l.add(labels[nx, ny])\n",
    "                \n",
    "                if not l:\n",
    "                    label += 1\n",
    "                    labels[i, j] = label\n",
    "                else:\n",
    "                    x = min(l)\n",
    "                    labels[i, j] = x\n",
    "                    for y in l:\n",
    "                        if y != x:\n",
    "                            edges.setdefault(x, set()).add(y)\n",
    "                            edges.setdefault(y, set()).add(x)\n",
    "    \n",
    "\n",
    "    new_label = 0\n",
    "    new_labels = np.zeros(label+1, dtype=int)\n",
    "    \n",
    "    for i in range(1, label):\n",
    "        if new_labels[i] == 0:\n",
    "            new_label += 1\n",
    "            new_labels[i] = new_label\n",
    "            Q = [i]\n",
    "            while Q:\n",
    "                x = Q.pop(0)\n",
    "                for y in edges.get(x, []):\n",
    "                    if new_labels[y] == 0:\n",
    "                        new_labels[y] = new_label\n",
    "                        Q.append(y)\n",
    "\n",
    "    for i in range(height):\n",
    "        for j in range(width):\n",
    "            if labels[i, j] > 0:\n",
    "                labels[i, j] = new_labels[labels[i, j]]\n",
    "\n",
    "    return labels\n"
   ]
  },
  {
   "cell_type": "code",
   "execution_count": 38,
   "metadata": {},
   "outputs": [],
   "source": [
    "def colorLabeledImage(image):\n",
    "    if not isinstance(image, np.ndarray):\n",
    "        raise ValueError(\"Input should be a numpy ndarray.\")\n",
    "\n",
    "    labels = np.unique(image)\n",
    "    labels = labels[labels != 0]\n",
    "\n",
    "    height, width = image.shape\n",
    "    colored_image = np.zeros((height, width, 3), dtype=np.uint8)\n",
    "\n",
    "    colors = {0: (255, 255, 255)}\n",
    "    for label in labels:\n",
    "        colors[label] = (random.randint(0, 255), random.randint(0, 255), random.randint(0, 255))\n",
    "\n",
    "    for label, color in colors.items():\n",
    "        colored_image[image == label] = color\n",
    "\n",
    "    return colored_image\n",
    "                "
   ]
  },
  {
   "cell_type": "code",
   "execution_count": 39,
   "metadata": {},
   "outputs": [],
   "source": [
    "def main():\n",
    "    imagePath: str = \"tickets.jpg\"\n",
    "    image: MatLike = readImage(imagePath)\n",
    "\n",
    "    if image is None:\n",
    "        print(\"Error reading image!\")\n",
    "        return 1\n",
    "\n",
    "    blackAndWhiteImage: MatLike = convertImageToBinary(image)\n",
    "\n",
    "    labeledImage = labelBlackAndWhiteImage_traversaInLatime(blackAndWhiteImage)\n",
    "    coloredImage = colorLabeledImage(labeledImage)\n",
    "    showImage(coloredImage, \"Colored image - traversare in latime\")\n",
    "\n",
    "    labeledImage = labelBlackAndWhiteImage_douaTreceriCuClaseDeEchivalenta(blackAndWhiteImage)\n",
    "    coloredImage = colorLabeledImage(labeledImage)\n",
    "    showImage(coloredImage, \"Colored image - doua treceri cu clase de echivalenta\")\n",
    "    \n",
    "if __name__ == \"__main__\":\n",
    "    main()"
   ]
  }
 ],
 "metadata": {
  "kernelspec": {
   "display_name": ".venv",
   "language": "python",
   "name": "python3"
  },
  "language_info": {
   "codemirror_mode": {
    "name": "ipython",
    "version": 3
   },
   "file_extension": ".py",
   "mimetype": "text/x-python",
   "name": "python",
   "nbconvert_exporter": "python",
   "pygments_lexer": "ipython3",
   "version": "3.10.12"
  }
 },
 "nbformat": 4,
 "nbformat_minor": 2
}
