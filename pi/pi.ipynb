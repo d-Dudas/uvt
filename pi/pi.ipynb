{
 "cells": [
  {
   "cell_type": "code",
   "execution_count": 84,
   "metadata": {},
   "outputs": [],
   "source": [
    "import cv2\n",
    "import numpy as np\n",
    "import numpy.typing\n",
    "from queue import Queue\n",
    "import matplotlib.pyplot as plt\n",
    "import random\n",
    "\n",
    "MatLike = cv2.typing.MatLike"
   ]
  },
  {
   "cell_type": "code",
   "execution_count": 85,
   "metadata": {},
   "outputs": [],
   "source": [
    "def cautaPrimulPixel(imagine: MatLike) -> tuple[int, int]:\n",
    "    rows, cols = imagine.shape[0], imagine.shape[1]\n",
    "    for i in range(rows):\n",
    "        for j in range(cols):\n",
    "            if imagine[i, j] != 0:\n",
    "                return (i, j)\n",
    "    return None"
   ]
  },
  {
   "cell_type": "code",
   "execution_count": 86,
   "metadata": {},
   "outputs": [],
   "source": [
    "def cautaContor(imagine: MatLike) -> list[int]:\n",
    "    directii: list[tuple[int, int]] = [(0, 1), (-1, 1), (-1, 0), (-1, -1), (0, -1), (1, -1), (1, 0), (1, 1)]\n",
    "    indexDirectie: int = 0\n",
    "\n",
    "    pozitiaStart = cautaPrimulPixel(imagine)\n",
    "    if pozitiaStart is None:\n",
    "        return []\n",
    "\n",
    "    eticheta: int = imagine[pozitiaStart]\n",
    "    contor = [pozitiaStart]\n",
    "    cod: list[int] = []\n",
    "    pozitiaCurenta = pozitiaStart\n",
    "    while True:\n",
    "        # Rotirea se face în sensul invers al acelor de ceasornic\n",
    "        urmatoareaDirectie: int = (indexDirectie + 6) % 8\n",
    "        gasit: bool = False\n",
    "        for _ in range(len(directii)):\n",
    "            urmatoareaPozitie: tuple[int, int] = (pozitiaCurenta[0] + directii[urmatoareaDirectie][0], pozitiaCurenta[1] + directii[urmatoareaDirectie][1])\n",
    "            if imagine[urmatoareaPozitie] == eticheta:\n",
    "                contor.append(urmatoareaPozitie)\n",
    "                pozitiaCurenta = urmatoareaPozitie\n",
    "                indexDirectie = urmatoareaDirectie\n",
    "                cod.append(indexDirectie)\n",
    "                gasit = True\n",
    "                break\n",
    "            urmatoareaDirectie = (urmatoareaDirectie + 1) % 8\n",
    "        \n",
    "        if not gasit or pozitiaCurenta == pozitiaStart:\n",
    "            break\n",
    "\n",
    "    return contor"
   ]
  },
  {
   "cell_type": "code",
   "execution_count": 87,
   "metadata": {},
   "outputs": [],
   "source": [
    "def trasaturiGeometrice(label: int, labels: MatLike):\n",
    "    arie: float = 0\n",
    "    perimetru: float = 0\n",
    "    numarVecini: int = 0\n",
    "    height, width = labels.shape[0], labels.shape[1]\n",
    "\n",
    "    for i in range(height):\n",
    "        for j in range(width):\n",
    "            if labels[i, j] == label:\n",
    "                arie += 1\n",
    "                if i - 1 >= 0 and labels[i-1, j] != 0: numarVecini += 1\n",
    "                if i + 1 < height and labels[i+1, j] != 0: numarVecini += 1\n",
    "                if j + 1 < width and labels[i, j+1] != 0: numarVecini += 1\n",
    "                if j - 1 >= 0 and labels[i, j-1] != 0: numarVecini += 1\n",
    "                perimetru += (4 - numarVecini)\n",
    "                numarVecini = 0\n",
    "    factorSubtiere: float = 4.0 * 3.14 * (arie / (perimetru**2))\n",
    "    print(\"Aria: {}\".format(arie))\n",
    "    print(\"Perimetru: {}\".format(perimetru))\n",
    "    print(\"Factorul de subtiere: {}\".format(factorSubtiere))"
   ]
  },
  {
   "cell_type": "code",
   "execution_count": 88,
   "metadata": {},
   "outputs": [],
   "source": [
    "def mouseCallback(event, x, y, flags, param):\n",
    "    image: MatLike = param['image']\n",
    "    if event == cv2.EVENT_LBUTTONDOWN:\n",
    "        label = image[y, x]\n",
    "        if label != 0:\n",
    "            trasaturiGeometrice(label, image)\n",
    "        "
   ]
  },
  {
   "cell_type": "code",
   "execution_count": 89,
   "metadata": {},
   "outputs": [],
   "source": [
    "import cv2\n",
    "from cv2.typing import MatLike\n",
    "\n",
    "def showImage(img: MatLike, name):\n",
    "  cv2.imshow(name, img)\n",
    "  cv2.waitKey(0)\n",
    "  cv2.destroyAllWindows()"
   ]
  },
  {
   "cell_type": "code",
   "execution_count": 90,
   "metadata": {},
   "outputs": [],
   "source": [
    "def colorLabeledImage(image):\n",
    "    if not isinstance(image, np.ndarray):\n",
    "        raise ValueError(\"Input should be a numpy ndarray.\")\n",
    "\n",
    "    labels = np.unique(image)\n",
    "    labels = labels[labels != 0]\n",
    "\n",
    "    height, width = image.shape\n",
    "    colored_image = np.zeros((height, width, 3), dtype=np.uint8)\n",
    "\n",
    "    colors = {0: (255, 255, 255)}\n",
    "    for label in labels:\n",
    "        colors[label] = (random.randint(0, 255), random.randint(0, 255), random.randint(0, 255))\n",
    "\n",
    "    for label, color in colors.items():\n",
    "        colored_image[image == label] = color\n",
    "\n",
    "    return colored_image\n",
    "                "
   ]
  },
  {
   "cell_type": "code",
   "execution_count": 91,
   "metadata": {},
   "outputs": [],
   "source": [
    "def showLabeledImageWithDifferentColors(labeledImage: MatLike, name: str):\n",
    "  cv2.namedWindow(name)\n",
    "  cv2.setMouseCallback(name, mouseCallback, param={'image': labeledImage})\n",
    "  coloredImage = colorLabeledImage(labeledImage)\n",
    "  cv2.imshow(name, coloredImage)\n",
    "  cv2.waitKey(0)\n",
    "  cv2.destroyAllWindows()"
   ]
  },
  {
   "cell_type": "code",
   "execution_count": 92,
   "metadata": {},
   "outputs": [],
   "source": [
    "import cv2\n",
    "from cv2.typing import MatLike\n",
    "\n",
    "def readImage(imagePath: str) -> MatLike:\n",
    "    return cv2.imread(imagePath, cv2.IMREAD_GRAYSCALE)"
   ]
  },
  {
   "cell_type": "code",
   "execution_count": 93,
   "metadata": {},
   "outputs": [],
   "source": [
    "def convertImageToBinary(image: MatLike) -> MatLike:\n",
    "    grayScaleImage = cv2.cvtColor(image, cv2.COLOR_BGR2GRAY)\n",
    "    showImage(grayScaleImage, 'GrayScale')\n",
    "\n",
    "    _, binaryImage = cv2.threshold(grayScaleImage, 125, 255, cv2.THRESH_BINARY)\n",
    "    showImage(binaryImage, 'Binary')\n",
    "\n",
    "    return binaryImage\n"
   ]
  },
  {
   "cell_type": "code",
   "execution_count": 94,
   "metadata": {},
   "outputs": [],
   "source": [
    "def labelBlackAndWhiteImage_traversaInLatime(image: MatLike) -> np.typing.NDArray:\n",
    "    height, width = image.shape\n",
    "    labels = np.zeros((height, width), dtype=int)\n",
    "    label = 0\n",
    "\n",
    "    for i in range(height):\n",
    "        for j in range(width):\n",
    "            if image[i, j] == 0 and labels[i, j] == 0:\n",
    "                label += 1\n",
    "                q = Queue()\n",
    "                q.put((i, j))\n",
    "                labels[i, j] = label\n",
    "\n",
    "                while not q.empty():\n",
    "                    x, y = q.get()\n",
    "                    \n",
    "                    neighbors = [(x-1, y), (x+1, y), (x, y-1), (x, y+1)]\n",
    "                    for nx, ny in neighbors:\n",
    "                        if 0 <= nx < height and 0 <= ny < width:\n",
    "                            if image[nx, ny] == 0 and labels[nx, ny] == 0:\n",
    "                                q.put((nx, ny))\n",
    "                                labels[nx, ny] = label\n",
    "\n",
    "    return labels"
   ]
  },
  {
   "cell_type": "code",
   "execution_count": 95,
   "metadata": {},
   "outputs": [],
   "source": [
    "def labelBlackAndWhiteImage_douaTreceriCuClaseDeEchivalenta(image: MatLike) -> np.typing.NDArray:\n",
    "    height, width = image.shape\n",
    "    labels = np.zeros((height, width), dtype=int)\n",
    "    label = 0\n",
    "    edges = {}\n",
    "\n",
    "    neighbors = [(-1, 0), (0, -1), (-1, -1), (1, -1)]\n",
    "\n",
    "    for i in range(height):\n",
    "        for j in range(width):\n",
    "            if image[i, j] == 0 and labels[i, j] == 0:\n",
    "                l = set()\n",
    "                for dx, dy in neighbors:\n",
    "                    nx, ny = i + dx, j + dy\n",
    "                    if 0 <= nx < height and 0 <= ny < width and labels[nx, ny] > 0:\n",
    "                        l.add(labels[nx, ny])\n",
    "                \n",
    "                if not l:\n",
    "                    label += 1\n",
    "                    labels[i, j] = label\n",
    "                else:\n",
    "                    x = min(l)\n",
    "                    labels[i, j] = x\n",
    "                    for y in l:\n",
    "                        if y != x:\n",
    "                            edges.setdefault(x, set()).add(y)\n",
    "                            edges.setdefault(y, set()).add(x)\n",
    "    \n",
    "\n",
    "    new_label = 0\n",
    "    new_labels = np.zeros(label+1, dtype=int)\n",
    "    \n",
    "    for i in range(1, label):\n",
    "        if new_labels[i] == 0:\n",
    "            new_label += 1\n",
    "            new_labels[i] = new_label\n",
    "            Q = [i]\n",
    "            while Q:\n",
    "                x = Q.pop(0)\n",
    "                for y in edges.get(x, []):\n",
    "                    if new_labels[y] == 0:\n",
    "                        new_labels[y] = new_label\n",
    "                        Q.append(y)\n",
    "\n",
    "    for i in range(height):\n",
    "        for j in range(width):\n",
    "            if labels[i, j] > 0:\n",
    "                labels[i, j] = new_labels[labels[i, j]]\n",
    "\n",
    "    return labels\n"
   ]
  },
  {
   "cell_type": "code",
   "execution_count": 96,
   "metadata": {},
   "outputs": [],
   "source": [
    "import numpy\n",
    "from skimage.filters import threshold_otsu\n",
    "\n",
    "def binarize_image(grayscale_image):\n",
    "    threshold_value = threshold_otsu(grayscale_image)\n",
    "    binarized_image = grayscale_image > threshold_value\n",
    "    binarized_image = (binarized_image * 255).astype(numpy.uint8)\n",
    "\n",
    "    return binarized_image"
   ]
  },
  {
   "cell_type": "code",
   "execution_count": 97,
   "metadata": {},
   "outputs": [],
   "source": [
    "def transformari_identitate(grayscale_image):\n",
    "    return grayscale_image"
   ]
  },
  {
   "cell_type": "code",
   "execution_count": 98,
   "metadata": {},
   "outputs": [],
   "source": [
    "def transformari_negative(grayscale_image):\n",
    "    return 255 - grayscale_image"
   ]
  },
  {
   "cell_type": "code",
   "execution_count": 99,
   "metadata": {},
   "outputs": [],
   "source": [
    "def transformari_contrast_modification(grayscale_image, in_min, in_max, out_min, out_max):\n",
    "    image = numpy.clip(grayscale_image, in_min, in_max)\n",
    "    return (image - in_min) * ((out_max - out_min) / (in_max - in_min)) + out_min"
   ]
  },
  {
   "cell_type": "code",
   "execution_count": 100,
   "metadata": {},
   "outputs": [],
   "source": [
    "def transformari_gamma_correction(image, gamma):\n",
    "    if gamma <= 0:\n",
    "        raise ValueError(\"Gamma should be a positive number\")\n",
    "    return 255 * (image / 255) ** gamma"
   ]
  },
  {
   "cell_type": "code",
   "execution_count": 102,
   "metadata": {},
   "outputs": [],
   "source": [
    "def transformari_brightness_adjustment(image, offset):\n",
    "    return np.clip(image + offset, 0, 255)"
   ]
  },
  {
   "cell_type": "code",
   "execution_count": 104,
   "metadata": {},
   "outputs": [],
   "source": [
    "import numpy\n",
    "\n",
    "def histogram_equalization(image):\n",
    "    hist, bins = numpy.histogram(image.flatten(), 256, [0,256])\n",
    "    \n",
    "    cdf = hist.cumsum()\n",
    "    cdf_normalized = cdf * hist.max() / cdf.max()\n",
    "    \n",
    "    cdf_m = numpy.ma.masked_equal(cdf,0)\n",
    "    cdf_m = (cdf_m - cdf_m.min())*255/(cdf_m.max()-cdf_m.min())\n",
    "    cdf = numpy.ma.filled(cdf_m,0).astype('uint8')\n",
    "    \n",
    "    image_equalized = cdf[image]\n",
    "    \n",
    "    return image_equalized"
   ]
  },
  {
   "cell_type": "code",
   "execution_count": 108,
   "metadata": {},
   "outputs": [],
   "source": [
    "import numpy\n",
    "\n",
    "def main():\n",
    "    imagePath: str = \"iulia.JPG\"\n",
    "    image: MatLike = readImage(imagePath)\n",
    "\n",
    "    if image is None:\n",
    "        print(\"Error reading image!\")\n",
    "        return 1\n",
    "    \n",
    "    showImage(image, \"original\")\n",
    "\n",
    "    bimage = histogram_equalization(image)\n",
    "    showImage(bimage, \"histo image\")\n",
    "    \n",
    "if __name__ == \"__main__\":\n",
    "    main()"
   ]
  }
 ],
 "metadata": {
  "kernelspec": {
   "display_name": ".venv",
   "language": "python",
   "name": "python3"
  },
  "language_info": {
   "codemirror_mode": {
    "name": "ipython",
    "version": 3
   },
   "file_extension": ".py",
   "mimetype": "text/x-python",
   "name": "python",
   "nbconvert_exporter": "python",
   "pygments_lexer": "ipython3",
   "version": "3.10.12"
  }
 },
 "nbformat": 4,
 "nbformat_minor": 2
}
