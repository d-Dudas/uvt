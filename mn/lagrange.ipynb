{
 "cells": [
  {
   "cell_type": "code",
   "execution_count": 28,
   "metadata": {},
   "outputs": [],
   "source": [
    "import numpy\n",
    "import numpy.typing\n",
    "\n",
    "NDArray = numpy.typing.NDArray\n",
    "\n",
    "def calculeazaFundament(i: int, val: float, x: NDArray) -> float:\n",
    "    result: float = 1\n",
    "    for j in range(len(x)):\n",
    "        if j != i:\n",
    "            result *= (val - x[j]) / (x[i] - x[j])\n",
    "    return result"
   ]
  },
  {
   "cell_type": "code",
   "execution_count": 29,
   "metadata": {},
   "outputs": [],
   "source": [
    "import numpy\n",
    "import numpy.typing\n",
    "\n",
    "NDArray = numpy.typing.NDArray\n",
    "\n",
    "def calculeazaPolinomul(val: float, x: NDArray, y: NDArray) -> float:\n",
    "    result: float = 0\n",
    "    for i in range(len(y)):\n",
    "        result += y[i] * calculeazaFundament(i, val, x)\n",
    "    return result"
   ]
  },
  {
   "cell_type": "code",
   "execution_count": 30,
   "metadata": {},
   "outputs": [
    {
     "name": "stdout",
     "output_type": "stream",
     "text": [
      "3\n",
      "[1. 2. 3.]\n",
      "Fundament pentru i=0: 0.25\n",
      "Fundament pentru i=1: 0.7999999999999999\n",
      "Fundament pentru i=2: -0.05\n"
     ]
    },
    {
     "data": {
      "text/plain": [
       "1.6999999999999997"
      ]
     },
     "execution_count": 30,
     "metadata": {},
     "output_type": "execute_result"
    }
   ],
   "source": [
    "import numpy\n",
    "import numpy.typing\n",
    "\n",
    "NDArray = numpy.typing.NDArray\n",
    "\n",
    "x: NDArray = numpy.array([1, 4, 9], dtype=float)\n",
    "y: NDArray = numpy.array([1, 2, 3], dtype=float)\n",
    "\n",
    "calculeazaPolinomul(3, x, y)"
   ]
  }
 ],
 "metadata": {
  "kernelspec": {
   "display_name": "env",
   "language": "python",
   "name": "python3"
  },
  "language_info": {
   "codemirror_mode": {
    "name": "ipython",
    "version": 3
   },
   "file_extension": ".py",
   "mimetype": "text/x-python",
   "name": "python",
   "nbconvert_exporter": "python",
   "pygments_lexer": "ipython3",
   "version": "3.10.12"
  }
 },
 "nbformat": 4,
 "nbformat_minor": 2
}
