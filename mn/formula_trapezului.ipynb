{
 "cells": [
  {
   "cell_type": "code",
   "execution_count": 9,
   "metadata": {},
   "outputs": [],
   "source": [
    "def second_derivate(f, x: float) -> float:\n",
    "    h = 1e-5\n",
    "    return (f(x - h) - 2 * f(x) + f(x + h)) / h**2"
   ]
  },
  {
   "cell_type": "code",
   "execution_count": 14,
   "metadata": {},
   "outputs": [],
   "source": [
    "import random\n",
    "def calculate_error(f, a: float, b: float, n: int) -> float:\n",
    "    s: float = 0\n",
    "    h: float = (b - a) / n\n",
    "    for i in range(1, n):\n",
    "        xi: float = random.uniform(a + i * h, a + (i + 1) * h)\n",
    "        s += second_derivate(f, xi)\n",
    "    error: float = (b - a) ** 3 / (12 * n**2) * s\n",
    "\n",
    "    return error"
   ]
  },
  {
   "cell_type": "code",
   "execution_count": 17,
   "metadata": {},
   "outputs": [],
   "source": [
    "def formula_trapezului(f, a: float, b: float, n: int = 1) -> float:\n",
    "    h: float = (b - a) / n\n",
    "    s: float = 0\n",
    "    for i in range(1, n):\n",
    "        s += f(a + i * h)\n",
    "    i: float = h  * (f(a) + f(b) + 2 * s) / 2\n",
    "\n",
    "    return i - calculate_error(f, a, b, n)"
   ]
  },
  {
   "cell_type": "code",
   "execution_count": 26,
   "metadata": {},
   "outputs": [
    {
     "name": "stdout",
     "output_type": "stream",
     "text": [
      "0.869999999303289\n"
     ]
    }
   ],
   "source": [
    "def f(x: float):\n",
    "    return 3 * x ** 2\n",
    "\n",
    "a: float = 0.5\n",
    "b: float = 1.0\n",
    "\n",
    "print(formula_trapezului(f, a, b, 10))"
   ]
  }
 ],
 "metadata": {
  "kernelspec": {
   "display_name": "mn-MKSgqfji",
   "language": "python",
   "name": "python3"
  },
  "language_info": {
   "codemirror_mode": {
    "name": "ipython",
    "version": 3
   },
   "file_extension": ".py",
   "mimetype": "text/x-python",
   "name": "python",
   "nbconvert_exporter": "python",
   "pygments_lexer": "ipython3",
   "version": "3.12.3"
  }
 },
 "nbformat": 4,
 "nbformat_minor": 2
}
