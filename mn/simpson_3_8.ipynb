{
 "cells": [
  {
   "cell_type": "code",
   "execution_count": 7,
   "metadata": {},
   "outputs": [],
   "source": [
    "def forth_derivate(f, x, h = 1e-5):\n",
    "    return (f(x - 2*h) - 4*f(x - h) + 6*f(x) - 4*f(x + h) + f(x + 2*h))/(h**4)"
   ]
  },
  {
   "cell_type": "code",
   "execution_count": 8,
   "metadata": {},
   "outputs": [],
   "source": [
    "def simpson_3_8(f, a, b, n):\n",
    "    if n % 4 != 0:\n",
    "        raise ValueError('n must be multiple of 4')\n",
    "    h = (b - a)/n\n",
    "    result = 0\n",
    "    for i in range(0, n, 4):\n",
    "        result += f(a + i*h) + 3*f(a + (i + 1)*h) + 3*f(a + (i + 2)*h) + f(a + (i + 3)*h)\n",
    "    return 3*h*result/8"
   ]
  },
  {
   "cell_type": "code",
   "execution_count": 9,
   "metadata": {},
   "outputs": [
    {
     "name": "stdout",
     "output_type": "stream",
     "text": [
      "0.544921875\n"
     ]
    }
   ],
   "source": [
    "def f(x: float):\n",
    "    return 3 * x ** 2\n",
    "\n",
    "a: float = 0.5\n",
    "b: float = 1.0\n",
    "\n",
    "n: int = 4\n",
    "print(simpson_3_8(f, a, b, n))"
   ]
  }
 ],
 "metadata": {
  "kernelspec": {
   "display_name": "mn-7mgelYSM",
   "language": "python",
   "name": "python3"
  },
  "language_info": {
   "codemirror_mode": {
    "name": "ipython",
    "version": 3
   },
   "file_extension": ".py",
   "mimetype": "text/x-python",
   "name": "python",
   "nbconvert_exporter": "python",
   "pygments_lexer": "ipython3",
   "version": "3.12.3"
  }
 },
 "nbformat": 4,
 "nbformat_minor": 2
}
