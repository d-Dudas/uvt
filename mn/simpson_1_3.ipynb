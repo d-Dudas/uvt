{
 "cells": [
  {
   "cell_type": "code",
   "execution_count": 20,
   "metadata": {},
   "outputs": [],
   "source": [
    "def forth_derivate(f, x, h = 1e-5):\n",
    "    return (f(x - 2*h) - 4*f(x - h) + 6*f(x) - 4*f(x + h) + f(x + 2*h))/(h**4)"
   ]
  },
  {
   "cell_type": "code",
   "execution_count": 21,
   "metadata": {},
   "outputs": [],
   "source": [
    "def formula_simpson_1_3(f, a, b, n):\n",
    "    h = (b - a)/n\n",
    "    x = [a + i*h for i in range(n + 1)]\n",
    "    i = h/3*(f(x[0]) + 4*sum(f(x[i]) for i in range(1, n, 2)) + 2*sum(f(x[i]) for i in range(2, n - 1, 2)) + f(x[n]))\n",
    "    error = h**4/180*(b - a)*forth_derivate(f, a + h/2)\n",
    "    return i - error"
   ]
  },
  {
   "cell_type": "code",
   "execution_count": 22,
   "metadata": {},
   "outputs": [
    {
     "name": "stdout",
     "output_type": "stream",
     "text": [
      "0.8900583635067432\n"
     ]
    }
   ],
   "source": [
    "def f(x: float):\n",
    "    return 3 * x ** 2\n",
    "\n",
    "a: float = 0.5\n",
    "b: float = 1.0\n",
    "\n",
    "n: int = 4\n",
    "print(formula_simpson_1_3(f, a, b, n))"
   ]
  }
 ],
 "metadata": {
  "kernelspec": {
   "display_name": "mn-7mgelYSM",
   "language": "python",
   "name": "python3"
  },
  "language_info": {
   "codemirror_mode": {
    "name": "ipython",
    "version": 3
   },
   "file_extension": ".py",
   "mimetype": "text/x-python",
   "name": "python",
   "nbconvert_exporter": "python",
   "pygments_lexer": "ipython3",
   "version": "3.12.3"
  }
 },
 "nbformat": 4,
 "nbformat_minor": 2
}
