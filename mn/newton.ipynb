{
 "cells": [
  {
   "cell_type": "code",
   "execution_count": 1,
   "metadata": {},
   "outputs": [],
   "source": [
    "import numpy.typing\n",
    "\n",
    "NDArray = numpy.typing.NDArray\n",
    "\n",
    "def calculeazaCoeficienti(x: NDArray, y: NDArray) -> NDArray:\n",
    "    n = len(y)\n",
    "    coeficienti = y.copy()\n",
    "    for j in range(1, n):\n",
    "        for i in range(n-1, j-1, -1):\n",
    "            coeficienti[i] = (coeficienti[i] - coeficienti[i-1]) / (x[i] - x[i-j])\n",
    "    return coeficienti"
   ]
  },
  {
   "cell_type": "code",
   "execution_count": 2,
   "metadata": {},
   "outputs": [],
   "source": [
    "import numpy.typing\n",
    "\n",
    "NDArray = numpy.typing.NDArray\n",
    "\n",
    "def calculeazaPolinomul(val: float, x: NDArray, y: NDArray) -> float:\n",
    "    n = len(x) - 1\n",
    "    coeficienti = calculeazaCoeficienti(x, y)\n",
    "    p = coeficienti[n]\n",
    "    for k in range(1, n+1):\n",
    "        p = coeficienti[n-k] + (val - x[n-k]) * p\n",
    "    return p"
   ]
  },
  {
   "cell_type": "code",
   "execution_count": 3,
   "metadata": {},
   "outputs": [
    {
     "name": "stdout",
     "output_type": "stream",
     "text": [
      "Coef initial: [1. 2. 3.]\n",
      "Coef: [1.  2.  0.2]\n",
      "Coef: [1.         0.33333333 0.2       ]\n",
      "Coef: [ 1.          0.33333333 -0.01666667]\n"
     ]
    },
    {
     "data": {
      "text/plain": [
       "1.7"
      ]
     },
     "execution_count": 3,
     "metadata": {},
     "output_type": "execute_result"
    }
   ],
   "source": [
    "import numpy\n",
    "import numpy.typing\n",
    "\n",
    "NDArray = numpy.typing.NDArray\n",
    "\n",
    "x: NDArray = numpy.array([1, 4, 9], dtype=float)\n",
    "y: NDArray = numpy.array([1, 2, 3], dtype=float)\n",
    "\n",
    "val: float = 3.0\n",
    "\n",
    "calculeazaPolinomul(val, x, y)"
   ]
  }
 ],
 "metadata": {
  "kernelspec": {
   "display_name": "env",
   "language": "python",
   "name": "python3"
  },
  "language_info": {
   "codemirror_mode": {
    "name": "ipython",
    "version": 3
   },
   "file_extension": ".py",
   "mimetype": "text/x-python",
   "name": "python",
   "nbconvert_exporter": "python",
   "pygments_lexer": "ipython3",
   "version": "3.10.12"
  }
 },
 "nbformat": 4,
 "nbformat_minor": 2
}
