{
 "cells": [
  {
   "cell_type": "code",
   "execution_count": 29,
   "metadata": {},
   "outputs": [],
   "source": [
    "import numpy\n",
    "import numpy.typing\n",
    "\n",
    "NDArray = numpy.typing.NDArray\n",
    "\n",
    "def neville(x: NDArray, y: NDArray, val: float) -> float:\n",
    "    n: int = len(x)\n",
    "    P: NDArray = numpy.zeros((n, n))\n",
    "\n",
    "    for i in range(n):\n",
    "        P[i][i] = y[i]\n",
    "\n",
    "    for i in range(1, n):\n",
    "        for j in range(n - i):\n",
    "            P[j][j+i] = ((val - x[j+i]) * P[j][j+i-1] + (x[j] - val) * P[j+1][j+i]) / (x[j] - x[j+i])\n",
    "\n",
    "    return P[0][n-1]"
   ]
  },
  {
   "cell_type": "code",
   "execution_count": 30,
   "metadata": {},
   "outputs": [
    {
     "name": "stdout",
     "output_type": "stream",
     "text": [
      "[[0.         3.         2.         1.9       ]\n",
      " [0.         1.         1.66666667 1.7       ]\n",
      " [0.         0.         2.         1.8       ]\n",
      " [0.         0.         0.         3.        ]]\n"
     ]
    },
    {
     "data": {
      "text/plain": [
       "1.9000000000000001"
      ]
     },
     "execution_count": 30,
     "metadata": {},
     "output_type": "execute_result"
    }
   ],
   "source": [
    "import numpy\n",
    "import numpy.typing\n",
    "\n",
    "NDArray = numpy.typing.NDArray\n",
    "\n",
    "x: NDArray = numpy.array([0, 1, 4, 9], dtype=float)\n",
    "y: NDArray = numpy.array([0, 1, 2, 3], dtype=float)\n",
    "\n",
    "val: float = 3.0\n",
    "\n",
    "neville(x, y, val)"
   ]
  }
 ],
 "metadata": {
  "kernelspec": {
   "display_name": "env",
   "language": "python",
   "name": "python3"
  },
  "language_info": {
   "codemirror_mode": {
    "name": "ipython",
    "version": 3
   },
   "file_extension": ".py",
   "mimetype": "text/x-python",
   "name": "python",
   "nbconvert_exporter": "python",
   "pygments_lexer": "ipython3",
   "version": "3.10.12"
  }
 },
 "nbformat": 4,
 "nbformat_minor": 2
}
